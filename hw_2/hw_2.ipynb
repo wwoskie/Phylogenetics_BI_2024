{
 "cells": [
  {
   "cell_type": "markdown",
   "metadata": {},
   "source": [
    "# HW_2 (работа с NCBI)"
   ]
  },
  {
   "cell_type": "code",
   "execution_count": 61,
   "metadata": {},
   "outputs": [],
   "source": [
    "from Bio import Entrez"
   ]
  },
  {
   "cell_type": "code",
   "execution_count": 71,
   "metadata": {},
   "outputs": [],
   "source": [
    "Entrez.email = 'wwoskie@gmail.com'"
   ]
  },
  {
   "cell_type": "code",
   "execution_count": 72,
   "metadata": {},
   "outputs": [
    {
     "name": "stdout",
     "output_type": "stream",
     "text": [
      "The rpy2.ipython extension is already loaded. To reload it, use:\n",
      "  %reload_ext rpy2.ipython\n"
     ]
    }
   ],
   "source": [
    "%load_ext rpy2.ipython"
   ]
  },
  {
   "cell_type": "code",
   "execution_count": 73,
   "metadata": {},
   "outputs": [],
   "source": [
    "%%R\n",
    "if (!(\"reutils\" %in% installed.packages())) \n",
    "  install.packages(\"reutils\")\n",
    "library(reutils)"
   ]
  },
  {
   "cell_type": "markdown",
   "metadata": {},
   "source": [
    "1. Найдем в PubMed статьи по интересному для нас запросу и возвратим абстракты этих статей;"
   ]
  },
  {
   "cell_type": "code",
   "execution_count": 74,
   "metadata": {},
   "outputs": [],
   "source": [
    "handle = Entrez.esearch(db = \"pubmed\", term = \"cnv detection review\")\n",
    "record = Entrez.read(handle)\n",
    "mshandle = Entrez.efetch(db=\"pubmed\", id=record[\"IdList\"][0:3], rettype=\"abstract\", retmode=\"text\")\n",
    "with open(\"abstracts_py.txt\", \"w\") as f:\n",
    "    for line in mshandle:\n",
    "        f.write(line)"
   ]
  },
  {
   "cell_type": "code",
   "execution_count": 20,
   "metadata": {},
   "outputs": [],
   "source": [
    "%%R\n",
    "ms <- esearch(db = \"pubmed\", term = \"cnv detection review\")[1:3]\n",
    "abstr <- efetch(ms, rettype = \"abstract\")\n",
    "abstr\n",
    "write(content(abstr), \"abstracts_R.txt\")"
   ]
  },
  {
   "cell_type": "code",
   "execution_count": 151,
   "metadata": {},
   "outputs": [],
   "source": [
    "!esearch -email wwoskie@gmail.com -db pubmed -query \"cnv detection review\" | efetch -mode text -format abstract  > abstracts_bash.txt"
   ]
  },
  {
   "cell_type": "markdown",
   "metadata": {},
   "source": [
    "2. Найдем ID организма по названию в базе taxonomy;"
   ]
  },
  {
   "cell_type": "code",
   "execution_count": 77,
   "metadata": {},
   "outputs": [
    {
     "name": "stdout",
     "output_type": "stream",
     "text": [
      "['11676']\n",
      "['11709']\n"
     ]
    }
   ],
   "source": [
    "handle = Entrez.esearch(db = \"taxonomy\", term =\"HIV-1\")\n",
    "record = Entrez.read(handle)\n",
    "print(record['IdList'])\n",
    "handle = Entrez.esearch(db = \"taxonomy\", term =\"HIV-2\")\n",
    "record = Entrez.read(handle)\n",
    "print(record['IdList'])"
   ]
  },
  {
   "cell_type": "code",
   "execution_count": 39,
   "metadata": {},
   "outputs": [
    {
     "name": "stdout",
     "output_type": "stream",
     "text": [
      "Object of class ‘esearch’ \n",
      "List of UIDs from the ‘taxonomy’ database.\n",
      "[1] \"11676\"\n",
      "Object of class ‘esearch’ \n",
      "List of UIDs from the ‘taxonomy’ database.\n",
      "[1] \"11709\"\n"
     ]
    }
   ],
   "source": [
    "%%R\n",
    "print(esearch(db = \"taxonomy\", term = \"HIV-1\"))\n",
    "print(esearch(db = \"taxonomy\", term = \"HIV-2\"))"
   ]
  },
  {
   "cell_type": "code",
   "execution_count": 135,
   "metadata": {},
   "outputs": [
    {
     "name": "stdout",
     "output_type": "stream",
     "text": [
      "    <TaxId>11676</TaxId>\n",
      "    <AkaTaxId>0</AkaTaxId>\n",
      "    <TaxId>11709</TaxId>\n",
      "    <AkaTaxId>0</AkaTaxId>\n"
     ]
    }
   ],
   "source": [
    "!esearch -email wwoskie@gmail.com -db taxonomy -query \"HIV-1\" | esummary | grep TaxId\n",
    "!esearch -email wwoskie@gmail.com -db taxonomy -query \"HIV-2\" | esummary | grep TaxId"
   ]
  },
  {
   "cell_type": "markdown",
   "metadata": {},
   "source": [
    "3. Запросим в базе нуклеотидных последовательностей по названию гена, после чего вернем\n",
    "таблицу с UID (в XML это поле называется Id), accession number (в XML это поле называется Caption), длиной последовательности (Slen);"
   ]
  },
  {
   "cell_type": "code",
   "execution_count": 81,
   "metadata": {},
   "outputs": [
    {
     "name": "stdout",
     "output_type": "stream",
     "text": [
      "2557534022\tLC722451\t105\n",
      "2557534020\tLC722450\t105\n",
      "2557534018\tLC722449\t105\n",
      "2557534016\tLC722448\t105\n",
      "2557534014\tLC722447\t108\n",
      "2557534012\tLC722446\t105\n",
      "2557534010\tLC722445\t105\n",
      "2557534008\tLC722444\t102\n",
      "2557534006\tLC722443\t105\n",
      "2557534004\tLC722442\t102\n"
     ]
    }
   ],
   "source": [
    "handle = Entrez.esearch(db=\"nucleotide\", term=\"gp120 AND HIV-1[orgn]\")\n",
    "record = Entrez.read(handle)\n",
    "for rec in record[\"IdList\"][0:10]:\n",
    "        temphandle = Entrez.read(Entrez.esummary(db=\"nucleotide\", id=rec, retmode=\"text\"))\n",
    "        print(temphandle[0]['Id']+\"\\t\"+temphandle[0]['Caption']+\"\\t\"+str(int(temphandle[0]['Length'])))#+\"\\n\")"
   ]
  },
  {
   "cell_type": "code",
   "execution_count": 37,
   "metadata": {},
   "outputs": [
    {
     "name": "stdout",
     "output_type": "stream",
     "text": [
      "           Id  Caption Slen\n",
      "1  2557534022 LC722451  105\n",
      "2  2557534020 LC722450  105\n",
      "3  2557534018 LC722449  105\n",
      "4  2557534016 LC722448  105\n",
      "5  2557534014 LC722447  108\n",
      "6  2557534012 LC722446  105\n",
      "7  2557534010 LC722445  105\n",
      "8  2557534008 LC722444  102\n",
      "9  2557534006 LC722443  105\n",
      "10 2557534004 LC722442  102\n"
     ]
    }
   ],
   "source": [
    "%%R\n",
    "request <- esearch(db = \"nucleotide\", term = \"gp120 AND HIV-1[orgn]\") \n",
    "summary <- esummary(request)\n",
    "content_summary <- content(summary, \"parsed\")\n",
    "as.data.frame(content_summary[1:10,c(\"Id\", \"Caption\", \"Slen\")])"
   ]
  },
  {
   "cell_type": "code",
   "execution_count": 139,
   "metadata": {},
   "outputs": [
    {
     "name": "stdout",
     "output_type": "stream",
     "text": [
      "2557534022\tLC722451\t105\n",
      "2557534020\tLC722450\t105\n",
      "2557534018\tLC722449\t105\n",
      "2557534016\tLC722448\t105\n",
      "2557534014\tLC722447\t108\n",
      "2557534012\tLC722446\t105\n",
      "2557534010\tLC722445\t105\n",
      "2557534008\tLC722444\t102\n",
      "2557534006\tLC722443\t105\n",
      "2557534004\tLC722442\t102\n",
      "^C\n"
     ]
    }
   ],
   "source": [
    "!esearch -email wwoskie@gmail.com -db nucleotide -query \"gp120 AND HIV-1[orgn]\" | esummary -mode xml | xtract -pattern DocumentSummary -element Id Caption Slen | sed '11,$ d; s/\"//g'"
   ]
  },
  {
   "cell_type": "markdown",
   "metadata": {},
   "source": [
    "4. Дадим в базу нуклеотидных или белковых последовательностей текстовый запрос, а затем вернем последовательности в формате fasta и запишем их в файл;"
   ]
  },
  {
   "cell_type": "code",
   "execution_count": 91,
   "metadata": {},
   "outputs": [],
   "source": [
    "handle = Entrez.esearch(db=\"nucleotide\", term=\"gp120 AND HIV-1[orgn]\")\n",
    "record = Entrez.read(handle)\n",
    "\n",
    "\n",
    "\n",
    "with open(\"HIV-1_gp120_py.fa\", \"w\") as ouf:\n",
    "    for rec in record[\"IdList\"][0:10]:\n",
    "        lne = Entrez.efetch(db=\"nucleotide\", id=rec, retmode=\"text\", rettype=\"fasta\").read()\n",
    "        ouf.write(lne+\"\\n\")"
   ]
  },
  {
   "cell_type": "code",
   "execution_count": 140,
   "metadata": {},
   "outputs": [],
   "source": [
    "%%R\n",
    "request <- esearch(db = \"nucleotide\", term = \"gp120 AND HIV-1[orgn]\") \n",
    "fasta_nuc <- efetch(uid = request[1:10], db = \"nucleotide\", rettype = \"fasta\", retmode = \"text\")\n",
    "write(content(fasta_nuc), \"HIV-1_gp120_R.fa\")"
   ]
  },
  {
   "cell_type": "code",
   "execution_count": 145,
   "metadata": {},
   "outputs": [
    {
     "name": "stdout",
     "output_type": "stream",
     "text": [
      "^C\n"
     ]
    }
   ],
   "source": [
    "!esearch -email wwoskie@gmail.com -db nucleotide -query \"gp120 AND HIV-1[orgn][1:10]\" | efetch -format fasta -mode text > HIV-1_gp120_bash.fa"
   ]
  },
  {
   "cell_type": "markdown",
   "metadata": {},
   "source": [
    "5. Скачаем белок, соответствующий известному UID нуклеотида;"
   ]
  },
  {
   "cell_type": "code",
   "execution_count": 126,
   "metadata": {},
   "outputs": [
    {
     "name": "stdout",
     "output_type": "stream",
     "text": [
      ">BDQ05264.1 envelope glycoprotein, partial [Human immunodeficiency virus 1]\n",
      "CTRPNNNTRXXIXXGPGQXXXATGXIIGBIRXAXC\n",
      "\n",
      "\n"
     ]
    }
   ],
   "source": [
    "lhandle = Entrez.elink(dbfrom=\"nucleotide\", id=\"2557534022\", linkname='nuccore_protein') # без linkname не работало\n",
    "lrecord = Entrez.read(lhandle)\n",
    "prothandle = lrecord[0][\"LinkSetDb\"][0]['Link'][0]['Id']\n",
    "rrecord = Entrez.efetch(db=\"protein\", id=prothandle, rettype=\"fasta\", retmode=\"text\")\n",
    "print(rrecord.read())"
   ]
  },
  {
   "cell_type": "code",
   "execution_count": 51,
   "metadata": {},
   "outputs": [
    {
     "name": "stdout",
     "output_type": "stream",
     "text": [
      "Object of class ‘efetch’ \n",
      ">BDQ05264.1 envelope glycoprotein, partial [Human immunodeficiency virus 1]\n",
      "CTRPNNNTRXXIXXGPGQXXXATGXIIGBIRXAXC\n",
      "\n",
      "\n",
      "...\n",
      "EFetch query using the ‘protein’ database.\n",
      "Query url: ‘https://eutils.ncbi.nlm.nih.gov/entrez/eutils/efetch.fcgi?=efe...’\n",
      "Retrieval type: ‘fasta’, retrieval mode: ‘text’\n",
      "\n"
     ]
    }
   ],
   "source": [
    "%%R\n",
    "nuc_to_prot <- elink(uid = content_summary$Id[1], dbFrom = \"nucleotide\", dbTo = \"protein\")\n",
    "efetch(nuc_to_prot, rettype = \"fasta\", retmode = \"text\")"
   ]
  },
  {
   "cell_type": "code",
   "execution_count": 148,
   "metadata": {},
   "outputs": [
    {
     "name": "stdout",
     "output_type": "stream",
     "text": [
      ">BDQ05264.1 envelope glycoprotein, partial [Human immunodeficiency virus 1]\n",
      "CTRPNNNTRXXIXXGPGQXXXATGXIIGBIRXAXC\n"
     ]
    }
   ],
   "source": [
    "!elink -id 2557534022 -db nuccore -target protein | efetch -format fasta -mode text"
   ]
  },
  {
   "cell_type": "markdown",
   "metadata": {},
   "source": [
    "6. Скачаем все последовательности из работы с PMID 22124968 и запишем их в файл fasta."
   ]
  },
  {
   "cell_type": "code",
   "execution_count": 127,
   "metadata": {},
   "outputs": [],
   "source": [
    "lhandle = Entrez.elink(dbfrom=\"pubmed\", db=\"nucleotide\", id=\"22124968\")\n",
    "lrecord = Entrez.read(lhandle)\n",
    "ids = []\n",
    "for el in lrecord[0][\"LinkSetDb\"][0][\"Link\"]:\n",
    "    ids.append(el['Id'])\n",
    "rrecord = Entrez.efetch(db=\"nucleotide\", id=ids[:4], rettype=\"fasta\", retmode=\"text\")\n",
    "with open (\"human_receptors_py.fa\", \"w\") as ouf:\n",
    "    ouf.write(rrecord.read()+\"\\n\")"
   ]
  },
  {
   "cell_type": "code",
   "execution_count": 60,
   "metadata": {},
   "outputs": [
    {
     "name": "stdout",
     "output_type": "stream",
     "text": [
      "Object of class ‘elink’ \n",
      "ELink query from database ‘pubmed’ to destination database ‘nuccore’.\n",
      "Query UIDs:\n",
      "[1] \"22124968\"\n",
      "Summary of LinkSet:\n",
      "     DbTo                LinkName LinkCount\n",
      "1 nuccore   pubmed_nuccore_refseq        20\n",
      "2 nuccore pubmed_nuccore_weighted      8242\n"
     ]
    }
   ],
   "source": [
    "%%R\n",
    "lnk <- elink(\"22124968\", dbFrom = \"pubmed\", dbTo = \"nuccore\")\n",
    "print(lnk) # take first entry type only to avoid batching\n",
    "f2 <- efetch(lnk[1], rettype = \"fasta\", retmode = \"text\")\n",
    "write(content(f2), \"human_receptors_R.fa\")"
   ]
  },
  {
   "cell_type": "code",
   "execution_count": 150,
   "metadata": {},
   "outputs": [],
   "source": [
    "!elink -db pubmed -target nucleotide -id 22124968 | efetch -format fasta -mode text > human_receptors_bash.fa"
   ]
  },
  {
   "cell_type": "code",
   "execution_count": null,
   "metadata": {},
   "outputs": [],
   "source": []
  }
 ],
 "metadata": {
  "kernelspec": {
   "display_name": "Python 3 (ipykernel)",
   "language": "python",
   "name": "python3"
  },
  "language_info": {
   "codemirror_mode": {
    "name": "ipython",
    "version": 3
   },
   "file_extension": ".py",
   "mimetype": "text/x-python",
   "name": "python",
   "nbconvert_exporter": "python",
   "pygments_lexer": "ipython3",
   "version": "3.9.18"
  }
 },
 "nbformat": 4,
 "nbformat_minor": 4
}
