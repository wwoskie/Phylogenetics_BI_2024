{
 "cells": [
  {
   "cell_type": "code",
   "execution_count": 17,
   "id": "d7085704-1de9-4a75-b812-212861506fb0",
   "metadata": {},
   "outputs": [],
   "source": [
    "from Bio import Phylo\n",
    "from io import StringIO"
   ]
  },
  {
   "cell_type": "markdown",
   "id": "98bc8082-980e-4061-b9f0-4f7b50fe4945",
   "metadata": {},
   "source": [
    "1. Program versions:\n",
    "   - trimal-1.4.1\n",
    "   - modeltest-ng-0.1.7\n",
    "   - raxml-ng-1.2.1\n",
    "   - ggtree v3.8.2\n",
    "   - iqtree-2.2.6   "
   ]
  },
  {
   "cell_type": "markdown",
   "id": "d215adc8-a05a-4e0c-9517-cc998d2149ed",
   "metadata": {},
   "source": [
    "2. Trimming alignment with trimal"
   ]
  },
  {
   "cell_type": "code",
   "execution_count": 4,
   "id": "4743d0ff-ffc2-45be-88d9-6193eb0a0d5d",
   "metadata": {},
   "outputs": [],
   "source": [
    "!trimal -in SUP35_aln_prank.best.fas -out SUP35_aln_prank.trim.fas -automated1"
   ]
  },
  {
   "cell_type": "markdown",
   "id": "7cb75571-535c-4eab-b15e-e9d3ef8c017b",
   "metadata": {},
   "source": [
    "3. Choosing best evolutionary model"
   ]
  },
  {
   "cell_type": "code",
   "execution_count": 5,
   "id": "93f509bd-c003-4262-9aaf-f080d0d1ffa0",
   "metadata": {},
   "outputs": [
    {
     "name": "stdout",
     "output_type": "stream",
     "text": [
      "modeltest-ng: Results file SUP35_trim_modeltest.out already exists\n",
      "modeltest-ng: - Remove the existing files, or\n",
      "modeltest-ng: - Select a different output basename (-o argument), or\n",
      "modeltest-ng: - Force overriding (--force argument)\n"
     ]
    }
   ],
   "source": [
    "!modeltest-ng -i SUP35_aln_prank.trim.fas -o SUP35_trim_modeltest | grep -C 10 'Summary'"
   ]
  },
  {
   "cell_type": "markdown",
   "id": "85be4f42-0512-4d4f-986f-8cc9fde46956",
   "metadata": {},
   "source": [
    "4. Build ML-tree based on best model (TIM3+G4)"
   ]
  },
  {
   "cell_type": "code",
   "execution_count": 6,
   "id": "c4925945-ec1b-4d7d-bdf9-9b2e9df85e82",
   "metadata": {},
   "outputs": [
    {
     "name": "stdout",
     "output_type": "stream",
     "text": [
      "\n",
      "ERROR: Result files for the run with prefix `SUP35_raxml` already exist!\n",
      "Please either choose a new prefix, remove old files, or add --redo command line switch to overwrite them.\n",
      "\n"
     ]
    }
   ],
   "source": [
    "!raxml-ng --msa SUP35_aln_prank.trim.fas --model TIM3+G4 --prefix SUP35_raxml --threads 2 --seed 222  --outgroup SUP35_Kla_AB039749"
   ]
  },
  {
   "cell_type": "markdown",
   "id": "43134ab1-d94f-4757-9e43-202397af409e",
   "metadata": {},
   "source": [
    "5. Visualize this tree"
   ]
  },
  {
   "cell_type": "code",
   "execution_count": 22,
   "id": "9aef893a-21c8-45d1-a0b8-19102181ace0",
   "metadata": {},
   "outputs": [
    {
     "name": "stdout",
     "output_type": "stream",
     "text": [
      "          ______________________ SUP35_Agos_ATCC_10895_NM_211584\n",
      "         |\n",
      "         |                     _____ SUP35_Skud_IFO1802T_36\n",
      "         |                    |\n",
      "         |                    |      , SUP35_Scer_74-D694_GCA_001578265.1\n",
      "  _______|                    |      |\n",
      " |       |                    |    __| SUP35_Scer_beer078_CM005938\n",
      " |       |                    |   |  |\n",
      " |       |                    |  _|  | SUP35_Sbou_unique28_CM003560\n",
      " |       |                    | | |\n",
      " |       |____________________|_| |_ SUP35_Spar_A12_Liti\n",
      "_|                            | |\n",
      " |                            | |____ SUP35_Smik_IFO1815T_30\n",
      " |                            |\n",
      " |                            |____ SUP35_Sarb_H-6_chrXIII_CM001575\n",
      " |                            |\n",
      " |                            |______ SUP35_Seub_CBS12357_chr_II_IV_DF968535\n",
      " |\n",
      " |_______ SUP35_Kla_AB039749\n",
      "\n"
     ]
    }
   ],
   "source": [
    "file = open(\"SUP35_raxml.raxml.bestTree\", \"r\")\n",
    "treedata = file.read()\n",
    "file.close()\n",
    "\n",
    "handle = StringIO(treedata)\n",
    "tree = Phylo.read(handle, \"newick\")\n",
    "\n",
    "Phylo.draw_ascii(tree)"
   ]
  },
  {
   "cell_type": "markdown",
   "id": "b42a4125-bff0-4cbd-9950-1a279b1e1342",
   "metadata": {},
   "source": [
    "6. Choose best model via IQ-TREE"
   ]
  },
  {
   "cell_type": "code",
   "execution_count": 26,
   "id": "3cc63342-a21a-44b6-a85f-0f965e71a2be",
   "metadata": {},
   "outputs": [
    {
     "name": "stdout",
     "output_type": "stream",
     "text": [
      "Best-fit model: TIM3+F+G4 chosen according to BIC\n"
     ]
    }
   ],
   "source": [
    "!iqtree2 -m MFP -s SUP35_aln_prank.trim.fas --prefix SUP35_MF2 | grep 'Best-fit model'"
   ]
  },
  {
   "cell_type": "markdown",
   "id": "1d257df3-6e85-420f-898e-618a60afaa57",
   "metadata": {},
   "source": [
    "7. TIM3+F+G4 model has fixed frequences"
   ]
  },
  {
   "cell_type": "markdown",
   "id": "c9950743-cf21-4fee-a041-422edacb549e",
   "metadata": {},
   "source": [
    "8. Buildinf IQ-TREE best tree"
   ]
  },
  {
   "cell_type": "code",
   "execution_count": 31,
   "id": "b5df6618-25c3-4d6a-ae26-473f8fbdea3e",
   "metadata": {},
   "outputs": [],
   "source": [
    "!iqtree2 -m TIM3+F+G4 -s SUP35_aln_prank.trim.fas --prefix SUP35_iqtree > /dev/null"
   ]
  },
  {
   "cell_type": "markdown",
   "id": "1689cb6f-c2a6-4084-bac6-2f3c0c792d77",
   "metadata": {},
   "source": [
    "9. Draw best tree"
   ]
  },
  {
   "cell_type": "code",
   "execution_count": 27,
   "id": "bdc9e2a1-ed3a-43e7-89d6-7b8540ca7f6a",
   "metadata": {},
   "outputs": [
    {
     "name": "stdout",
     "output_type": "stream",
     "text": [
      "  _____________________ SUP35_Kla_AB039749\n",
      " |\n",
      " |__________________________ SUP35_Agos_ATCC_10895_NM_211584\n",
      " |\n",
      " |                                  , SUP35_Scer_74-D694_GCA_001578265.1\n",
      " |                                  |\n",
      "_|                               ___| SUP35_Scer_beer078_CM005938\n",
      " |                              |   |\n",
      " |                            __|   | SUP35_Sbou_unique28_CM003560\n",
      " |                           |  |\n",
      " |                          _|  |__ SUP35_Spar_A12_Liti\n",
      " |                         | |\n",
      " |                         | |_____ SUP35_Smik_IFO1815T_30\n",
      " |_________________________|\n",
      "                           |  ______ SUP35_Sarb_H-6_chrXIII_CM001575\n",
      "                           |,|\n",
      "                           |||________ SUP35_Seub_CBS12357_chr_II_IV_DF968535\n",
      "                            |\n",
      "                            |_______ SUP35_Skud_IFO1802T_36\n",
      "\n"
     ]
    }
   ],
   "source": [
    "file = open(\"SUP35_MF2.treefile\", \"r\")\n",
    "treedata = file.read()\n",
    "file.close()\n",
    "\n",
    "handle = StringIO(treedata)\n",
    "tree = Phylo.read(handle, \"newick\")\n",
    "\n",
    "Phylo.draw_ascii(tree)"
   ]
  },
  {
   "cell_type": "markdown",
   "id": "30dafff3-7166-4ac1-848a-817ab82371fb",
   "metadata": {},
   "source": [
    "10. log-likelihood"
   ]
  },
  {
   "cell_type": "code",
   "execution_count": null,
   "id": "6201af7d-56e1-4610-a5e3-b66ac8cd99bb",
   "metadata": {},
   "outputs": [],
   "source": []
  },
  {
   "cell_type": "markdown",
   "id": "ff40279a-3365-4a1e-ab86-1ce3cc28f5cc",
   "metadata": {},
   "source": [
    "11. Base command for 100 bootstrap replics"
   ]
  },
  {
   "cell_type": "code",
   "execution_count": null,
   "id": "f100d897-6f5a-4ea0-beeb-2e38b5d1f8ce",
   "metadata": {},
   "outputs": [],
   "source": [
    "!iqtree2 -s SUP35_aln_prank.trim.fas -m TIM3+F+G4 -pre SUP35_TIM3_b -b 10"
   ]
  },
  {
   "cell_type": "markdown",
   "id": "1e09d802-7e19-45dd-b5ea-e83b9e73ff47",
   "metadata": {},
   "source": [
    "12. Ultra-fast bootstrap 1000"
   ]
  },
  {
   "cell_type": "code",
   "execution_count": null,
   "id": "b0e4de72-0df7-40db-94d1-d5b011c34ac7",
   "metadata": {},
   "outputs": [],
   "source": [
    "!iqtree2 -s SUP35_aln_prank.trim.fas -m TIM3+F+G4 -redo -pre SUP35_TIM3_ufb -bb 1000"
   ]
  },
  {
   "cell_type": "markdown",
   "id": "57d22a82-b33d-43b5-a317-a368a03d8658",
   "metadata": {},
   "source": [
    "14.  + 1000 uftrafast bootstrap + 1000 alrt + abayes"
   ]
  },
  {
   "cell_type": "code",
   "execution_count": null,
   "id": "4e8d26db-0225-40ca-9e0e-0a4a8a056328",
   "metadata": {},
   "outputs": [],
   "source": [
    "!iqtree2 -s SUP35_aln_prank.trim.fas -m TIM3+F+G4 -pre SUP35_TIM3_B_alrt_abayes -bb 1000 -alrt 1000 -abayes"
   ]
  }
 ],
 "metadata": {
  "kernelspec": {
   "display_name": "Python 3 (ipykernel)",
   "language": "python",
   "name": "python3"
  },
  "language_info": {
   "codemirror_mode": {
    "name": "ipython",
    "version": 3
   },
   "file_extension": ".py",
   "mimetype": "text/x-python",
   "name": "python",
   "nbconvert_exporter": "python",
   "pygments_lexer": "ipython3",
   "version": "3.9.18"
  }
 },
 "nbformat": 4,
 "nbformat_minor": 5
}
